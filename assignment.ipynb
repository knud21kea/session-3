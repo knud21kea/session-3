{
 "cells": [
  {
   "cell_type": "code",
   "execution_count": 9,
   "metadata": {},
   "outputs": [
    {
     "name": "stdout",
     "output_type": "stream",
     "text": [
      "Board members who are not employees: {'Benny', 'Hans', 'Søren', 'Troels', 'Torben', 'Mille'}\n",
      "Board members who are also employees: {'Tine'}\n",
      "Number of management members who are also board members: 1\n",
      "Are all members of the management also employees? True\n",
      "Are all members of the management also in the board? False\n",
      "Members who are employees, management, and board members: {'Tine'}\n",
      "Employees who are neither board members nor in management: {'Anna', 'Allan', 'Niels', 'James', 'Claus', 'Ole', 'Stine', 'Lars', 'Bent'}\n"
     ]
    }
   ],
   "source": [
    "board_of_directors = {'Benny', 'Hans', 'Tine', 'Mille', 'Torben', 'Troels', 'Søren'}\n",
    "management = {'Tine', 'Trunte', 'Rane'}\n",
    "employees = {'Niels', 'Anna', 'Tine', 'Ole', 'Trunte', 'Bent', 'Rane', 'Allan', 'Stine', 'Claus', 'James', 'Lars'}\n",
    "\n",
    "# 1: Who in the board of directors is not an employee?\n",
    "not_employee_in_board = board_of_directors - employees\n",
    "print(\"Board members who are not employees:\", not_employee_in_board)\n",
    "\n",
    "# 2: Who in the board of directors is also an employee?\n",
    "board_and_employee = board_of_directors.intersection(employees)\n",
    "print(\"Board members who are also employees:\", board_and_employee)\n",
    "\n",
    "# 3: How many of the management are also members of the board?\n",
    "management_and_board = management.intersection(board_of_directors)\n",
    "print(\"Number of management members who are also board members:\", len(management_and_board))\n",
    "\n",
    "# 4: Are all members of the management also employees?\n",
    "all_management_are_employees = management.issubset(employees)\n",
    "print(\"Are all members of the management also employees?\", all_management_are_employees)\n",
    "\n",
    "# 5: Are all members of the management also in the board?\n",
    "all_management_are_in_board = management.issubset(board_of_directors)\n",
    "print(\"Are all members of the management also in the board?\", all_management_are_in_board)\n",
    "\n",
    "# 6: Who is an employee, a member of the management, and a member of the board?\n",
    "employee_management_board = employees.intersection(management, board_of_directors)\n",
    "print(\"Members who are employees, management, and board members:\", employee_management_board)\n",
    "\n",
    "# 7: Who of the employees is neither a member of the board nor management?\n",
    "not_board_nor_management = employees - (board_of_directors.union(management))\n",
    "print(\"Employees who are neither board members nor in management:\", not_board_nor_management)\n"
   ]
  },
  {
   "cell_type": "code",
   "execution_count": 10,
   "metadata": {},
   "outputs": [
    {
     "name": "stdout",
     "output_type": "stream",
     "text": [
      "[('a', 'Alpha'), ('b', 'Beta'), ('g', 'Gamma')]\n"
     ]
    }
   ],
   "source": [
    "data = {'a': 'Alpha', 'b': 'Beta', 'g': 'Gamma'}\n",
    "\n",
    "list_of_tuples = [(key, value) for key, value in data.items()]\n",
    "\n",
    "print(list_of_tuples)\n"
   ]
  },
  {
   "cell_type": "code",
   "execution_count": 11,
   "metadata": {},
   "outputs": [
    {
     "name": "stdout",
     "output_type": "stream",
     "text": [
      "Union using set method: {'e', 'æ', 'å', 'ø', 'a', 'y', 'o', 'i', 'u'}\n",
      "Symmetric Difference using set method: {'æ', 'å', 'ø'}\n",
      "Difference using set method: set()\n",
      "Are the sets disjoint using set method? False\n",
      "Union using set operator: {'e', 'æ', 'å', 'ø', 'a', 'y', 'o', 'i', 'u'}\n",
      "Symmetric Difference using set operator: {'æ', 'å', 'ø'}\n",
      "Difference using set operator: set()\n",
      "Are the sets disjoint using set operator? False\n"
     ]
    }
   ],
   "source": [
    "set1 = {'a', 'e', 'i', 'o', 'u', 'y'}\n",
    "set2 = {'a', 'e', 'i', 'o', 'u', 'y', 'æ', 'ø', 'å'}\n",
    "\n",
    "# solutions with set methods\n",
    "\n",
    "# Union\n",
    "union_set_method = set1.union(set2)\n",
    "print(\"Union using set method:\", union_set_method)\n",
    "\n",
    "# Symmetric Difference\n",
    "symmetric_difference_set_method = set1.symmetric_difference(set2)\n",
    "print(\"Symmetric Difference using set method:\", symmetric_difference_set_method)\n",
    "\n",
    "# Difference\n",
    "difference_set_method = set1.difference(set2)\n",
    "print(\"Difference using set method:\", difference_set_method)\n",
    "\n",
    "# Disjoint\n",
    "is_disjoint_set_method = set1.isdisjoint(set2)\n",
    "print(\"Are the sets disjoint using set method?\", is_disjoint_set_method)\n",
    "\n",
    "# solutions with set operators\n",
    "\n",
    "# Union\n",
    "union_set_operator = set1 | set2\n",
    "print(\"Union using set operator:\", union_set_operator)\n",
    "\n",
    "# Symmetric Difference\n",
    "symmetric_difference_set_operator = set1 ^ set2\n",
    "print(\"Symmetric Difference using set operator:\", symmetric_difference_set_operator)\n",
    "\n",
    "# Difference\n",
    "difference_set_operator = set1 - set2\n",
    "print(\"Difference using set operator:\", difference_set_operator)\n",
    "\n",
    "# If we do set2 - set1 we get {'ø', 'æ', 'å'}\n",
    "\n",
    "# Disjoint\n",
    "is_disjoint_set_operator = not bool(set1 & set2)\n",
    "print(\"Are the sets disjoint using set operator?\", is_disjoint_set_operator)\n"
   ]
  },
  {
   "cell_type": "code",
   "execution_count": 12,
   "metadata": {},
   "outputs": [
    {
     "name": "stdout",
     "output_type": "stream",
     "text": [
      "(1985, 3, 8)\n"
     ]
    }
   ],
   "source": [
    "def decode_month(month_name):\n",
    "    # Dictionary to map month names to numbers\n",
    "    month_dict = {\n",
    "        'JAN': 1, 'FEB': 2, 'MAR': 3, 'APR': 4,\n",
    "        'MAY': 5, 'JUN': 6, 'JUL': 7, 'AUG': 8,\n",
    "        'SEP': 9, 'OCT': 10, 'NOV': 11, 'DEC': 12\n",
    "    }\n",
    "    \n",
    "    # get month number from dictionary\n",
    "    return month_dict[month_name.upper()]\n",
    "\n",
    "def parse_date(date):\n",
    "    parts = date.split('-')\n",
    "    day = int(parts[0])\n",
    "    month = decode_month(parts[1])\n",
    "    \n",
    "    year = int(parts[2])\n",
    "    if year >= 0 and year <= 20:\n",
    "        year += 2000\n",
    "    else:\n",
    "        year += 1900\n",
    "    \n",
    "    return (year, month, day)\n",
    "\n",
    "# Try with sample date\n",
    "date = \"8-MAR-85\"\n",
    "result = parse_date(date)\n",
    "print(result)\n"
   ]
  },
  {
   "cell_type": "code",
   "execution_count": 13,
   "metadata": {},
   "outputs": [
    {
     "name": "stdout",
     "output_type": "stream",
     "text": [
      "Friends who have not RSVPed:\n",
      "{'Christian', 'Anne', 'Ea'}\n",
      "\n",
      "Friends who RSVPed without invite:\n",
      "{'Frede', 'Gru'}\n",
      "\n",
      "Invited friends who RSVPed:\n",
      "{'Bo', 'Ditte'}\n"
     ]
    }
   ],
   "source": [
    "invited_friends = {\"Anne\", \"Bo\", \"Christian\", \"Ditte\", \"Ea\"}\n",
    "rsvp_friends = {\"Bo\", \"Ditte\", \"Frede\", \"Gru\"}\n",
    "\n",
    "not_rsvped = invited_friends - rsvp_friends # set operation\n",
    "\n",
    "rsvped_without_invite = rsvp_friends - invited_friends \n",
    "\n",
    "common_friends = invited_friends & rsvp_friends # disjoint\n",
    "\n",
    "print(\"Friends who have not RSVPed:\")\n",
    "print(not_rsvped)\n",
    "\n",
    "print(\"\\nFriends who RSVPed without invite:\")\n",
    "print(rsvped_without_invite)\n",
    "\n",
    "print(\"\\nInvited friends who RSVPed:\")\n",
    "print(common_friends)\n"
   ]
  },
  {
   "cell_type": "code",
   "execution_count": 14,
   "metadata": {},
   "outputs": [
    {
     "name": "stdout",
     "output_type": "stream",
     "text": [
      "Students with grades above 85:\n",
      "Bo\n",
      "Christian\n"
     ]
    }
   ],
   "source": [
    "# Test dictionary\n",
    "student_grades = {\n",
    "    \"Anne\": 90,\n",
    "    \"Bo\": 78,\n",
    "    \"Christian\": 92,\n",
    "    \"Ditte\": 85,\n",
    "}\n",
    "\n",
    "# Update grades for some students\n",
    "updates = {\n",
    "    \"Anne\": 83,\n",
    "    \"Bo\": 88\n",
    "}\n",
    "\n",
    "def update_grades(dictionary, updates):\n",
    "    for student, grade in updates.items():\n",
    "        if student in dictionary:\n",
    "            dictionary[student] = grade # updates grade if update available\n",
    "\n",
    "def print_high_grades(dictionary, minimum=85):\n",
    "    students = [student for student, grade in dictionary.items() if grade > minimum]\n",
    "    if students:\n",
    "        print(\"Students with grades above 85:\")\n",
    "        for student in students:\n",
    "            print(student)\n",
    "    else:\n",
    "        print(\"No students have grades above 85.\")\n",
    "\n",
    "# Update grades for students in updates\n",
    "update_grades(student_grades, updates)\n",
    "\n",
    "# Print students with grades > 85\n",
    "print_high_grades(student_grades)\n"
   ]
  }
 ],
 "metadata": {
  "kernelspec": {
   "display_name": ".venv",
   "language": "python",
   "name": "python3"
  },
  "language_info": {
   "codemirror_mode": {
    "name": "ipython",
    "version": 3
   },
   "file_extension": ".py",
   "mimetype": "text/x-python",
   "name": "python",
   "nbconvert_exporter": "python",
   "pygments_lexer": "ipython3",
   "version": "3.11.4"
  },
  "orig_nbformat": 4
 },
 "nbformat": 4,
 "nbformat_minor": 2
}
