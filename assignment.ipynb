{
 "cells": [
  {
   "cell_type": "code",
   "execution_count": 1,
   "metadata": {},
   "outputs": [
    {
     "name": "stdout",
     "output_type": "stream",
     "text": [
      "Board members who are not employees: {'Benny', 'Hans', 'Søren', 'Troels', 'Torben', 'Mille'}\n",
      "Board members who are also employees: {'Tine'}\n",
      "Number of management members who are also board members: 1\n",
      "Are all members of the management also employees? True\n",
      "Are all members of the management also in the board? False\n",
      "Members who are employees, management, and board members: {'Tine'}\n",
      "Employees who are neither board members nor in management: {'Anna', 'Allan', 'Niels', 'James', 'Claus', 'Ole', 'Stine', 'Lars', 'Bent'}\n"
     ]
    }
   ],
   "source": [
    "# Define the sets\n",
    "board_of_directors = {'Benny', 'Hans', 'Tine', 'Mille', 'Torben', 'Troels', 'Søren'}\n",
    "management = {'Tine', 'Trunte', 'Rane'}\n",
    "employees = {'Niels', 'Anna', 'Tine', 'Ole', 'Trunte', 'Bent', 'Rane', 'Allan', 'Stine', 'Claus', 'James', 'Lars'}\n",
    "\n",
    "# Question 1: Who in the board of directors is not an employee?\n",
    "not_employee_in_board = board_of_directors - employees\n",
    "print(\"Board members who are not employees:\", not_employee_in_board)\n",
    "\n",
    "# Question 2: Who in the board of directors is also an employee?\n",
    "board_and_employee = board_of_directors.intersection(employees)\n",
    "print(\"Board members who are also employees:\", board_and_employee)\n",
    "\n",
    "# Question 3: How many of the management are also members of the board?\n",
    "management_and_board = management.intersection(board_of_directors)\n",
    "print(\"Number of management members who are also board members:\", len(management_and_board))\n",
    "\n",
    "# Question 4: Are all members of the management also employees?\n",
    "all_management_are_employees = management.issubset(employees)\n",
    "print(\"Are all members of the management also employees?\", all_management_are_employees)\n",
    "\n",
    "# Question 5: Are all members of the management also in the board?\n",
    "all_management_are_in_board = management.issubset(board_of_directors)\n",
    "print(\"Are all members of the management also in the board?\", all_management_are_in_board)\n",
    "\n",
    "# Question 6: Who is an employee, a member of the management, and a member of the board?\n",
    "employee_management_board = employees.intersection(management, board_of_directors)\n",
    "print(\"Members who are employees, management, and board members:\", employee_management_board)\n",
    "\n",
    "# Question 7: Who of the employees is neither a member of the board nor management?\n",
    "not_board_nor_management = employees - (board_of_directors.union(management))\n",
    "print(\"Employees who are neither board members nor in management:\", not_board_nor_management)\n"
   ]
  },
  {
   "cell_type": "code",
   "execution_count": 2,
   "metadata": {},
   "outputs": [
    {
     "name": "stdout",
     "output_type": "stream",
     "text": [
      "[('a', 'Alpha'), ('b', 'Beta'), ('g', 'Gamma')]\n"
     ]
    }
   ],
   "source": [
    "data = {'a': 'Alpha', 'b': 'Beta', 'g': 'Gamma'}\n",
    "\n",
    "# Create a list of tuples from the dictionary\n",
    "tuple_list = [(key, value) for key, value in data.items()]\n",
    "\n",
    "# Print the resulting list of tuples\n",
    "print(tuple_list)\n"
   ]
  },
  {
   "cell_type": "code",
   "execution_count": 4,
   "metadata": {},
   "outputs": [
    {
     "name": "stdout",
     "output_type": "stream",
     "text": [
      "Union using set method: {'e', 'æ', 'å', 'ø', 'a', 'y', 'o', 'i', 'u'}\n",
      "Union using set operator: {'e', 'æ', 'å', 'ø', 'a', 'y', 'o', 'i', 'u'}\n",
      "Symmetric Difference using set method: {'æ', 'å', 'ø'}\n",
      "Symmetric Difference using set operator: {'æ', 'å', 'ø'}\n",
      "Difference using set method: {'ø', 'æ', 'å'}\n",
      "Difference using set operator: set()\n",
      "Are the sets disjoint using set method? False\n",
      "Are the sets disjoint using set operator? False\n"
     ]
    }
   ],
   "source": [
    "# Define the two sets\n",
    "set1 = {'a', 'e', 'i', 'o', 'u', 'y'}\n",
    "set2 = {'a', 'e', 'i', 'o', 'u', 'y', 'æ', 'ø', 'å'}\n",
    "\n",
    "# Union using set methods\n",
    "union_set_method = set1.union(set2)\n",
    "print(\"Union using set method:\", union_set_method)\n",
    "\n",
    "# Union using set operators\n",
    "union_set_operator = set1 | set2\n",
    "print(\"Union using set operator:\", union_set_operator)\n",
    "\n",
    "# Symmetric Difference using set methods\n",
    "symmetric_difference_set_method = set1.symmetric_difference(set2)\n",
    "print(\"Symmetric Difference using set method:\", symmetric_difference_set_method)\n",
    "\n",
    "# Symmetric Difference using set operators\n",
    "symmetric_difference_set_operator = set1 ^ set2\n",
    "print(\"Symmetric Difference using set operator:\", symmetric_difference_set_operator)\n",
    "\n",
    "# Difference using set methods (set1 - set2)\n",
    "difference_set_method = set1.difference(set2)\n",
    "print(\"Difference using set method:\", difference_set_method)\n",
    "\n",
    "# Difference using set operators (set1 - set2)\n",
    "difference_set_operator = set1 - set2\n",
    "print(\"Difference using set operator:\", difference_set_operator)\n",
    "\n",
    "# If we do set2 - set1 we get {'ø', 'æ', 'å'}\n",
    "\n",
    "# Check if the sets are disjoint using set methods\n",
    "is_disjoint_set_method = set1.isdisjoint(set2)\n",
    "print(\"Are the sets disjoint using set method?\", is_disjoint_set_method)\n",
    "\n",
    "# Check if the sets are disjoint using set operators\n",
    "is_disjoint_set_operator = not bool(set1 & set2)\n",
    "print(\"Are the sets disjoint using set operator?\", is_disjoint_set_operator)\n"
   ]
  },
  {
   "cell_type": "code",
   "execution_count": null,
   "metadata": {},
   "outputs": [],
   "source": [
    "def decode_month(month_name):\n",
    "    # Dictionary to map month names to numbers\n",
    "    month_dict = {\n",
    "        'JAN': 1, 'FEB': 2, 'MAR': 3, 'APR': 4,\n",
    "        'MAY': 5, 'JUN': 6, 'JUL': 7, 'AUG': 8,\n",
    "        'SEP': 9, 'OCT': 10, 'NOV': 11, 'DEC': 12\n",
    "    }\n",
    "    \n",
    "    # Convert the month name to uppercase and use the dictionary to get the number\n",
    "    return month_dict[month_name.upper()]\n",
    "\n",
    "def parse_date(date_str):\n",
    "    # Split the date string using the \"-\" character\n",
    "    parts = date_str.split('-')\n",
    "    \n",
    "    # Extract day, month, and year from the parts\n",
    "    day = int(parts[0])\n",
    "    month = decode_month(parts[1])\n",
    "    \n",
    "    # Correct the year to include all of the digits\n",
    "    year = int(parts[2])\n",
    "    if year >= 0 and year <= 20:\n",
    "        year += 2000\n",
    "    else:\n",
    "        year += 1900\n",
    "    \n",
    "    return (year, month, day)\n",
    "\n",
    "# Example usage\n",
    "date_str = \"8-MAR-85\"\n",
    "result = parse_date(date_str)\n",
    "print(result)  # Output: (1985, 3, 8)\n"
   ]
  }
 ],
 "metadata": {
  "kernelspec": {
   "display_name": ".venv",
   "language": "python",
   "name": "python3"
  },
  "language_info": {
   "codemirror_mode": {
    "name": "ipython",
    "version": 3
   },
   "file_extension": ".py",
   "mimetype": "text/x-python",
   "name": "python",
   "nbconvert_exporter": "python",
   "pygments_lexer": "ipython3",
   "version": "3.11.4"
  },
  "orig_nbformat": 4
 },
 "nbformat": 4,
 "nbformat_minor": 2
}
